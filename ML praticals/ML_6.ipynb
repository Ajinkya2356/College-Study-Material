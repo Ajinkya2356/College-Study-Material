{
 "cells": [
  {
   "cell_type": "code",
   "execution_count": 27,
   "metadata": {},
   "outputs": [],
   "source": [
    "import numpy as np\n",
    "import matplotlib.pyplot as plt"
   ]
  },
  {
   "cell_type": "code",
   "execution_count": 28,
   "metadata": {},
   "outputs": [],
   "source": [
    "maze = np.array(\n",
    "    [\n",
    "        [0, 0, 0, 0, 0],\n",
    "        [0, 1, 1, 1, 0],\n",
    "        [1, 1, 0, 1, 0],\n",
    "        [0, 1, 0, 1, 0],\n",
    "        [0, 1, 0, 0, 0],\n",
    "    ]\n",
    ")"
   ]
  },
  {
   "cell_type": "code",
   "execution_count": 29,
   "metadata": {},
   "outputs": [],
   "source": [
    "start = (0, 0)\n",
    "goal = (4, 4)"
   ]
  },
  {
   "cell_type": "code",
   "execution_count": 30,
   "metadata": {},
   "outputs": [],
   "source": [
    "actions = [\"up\", \"down\", \"left\", \"right\"]"
   ]
  },
  {
   "cell_type": "code",
   "execution_count": 31,
   "metadata": {},
   "outputs": [],
   "source": [
    "rewards = np.full(maze.shape, -1)\n",
    "rewards[goal] = 100"
   ]
  },
  {
   "cell_type": "code",
   "execution_count": 32,
   "metadata": {},
   "outputs": [],
   "source": [
    "q_table = np.zeros((*maze.shape, len(actions)))"
   ]
  },
  {
   "cell_type": "code",
   "execution_count": 33,
   "metadata": {},
   "outputs": [
    {
     "data": {
      "text/plain": [
       "(5, 5, 4)"
      ]
     },
     "execution_count": 33,
     "metadata": {},
     "output_type": "execute_result"
    }
   ],
   "source": [
    "q_table.shape"
   ]
  },
  {
   "cell_type": "code",
   "execution_count": 34,
   "metadata": {},
   "outputs": [],
   "source": [
    "alpha = 0.1\n",
    "gamma = 0.9\n",
    "epsilon = 0.1\n",
    "episodes = 1000"
   ]
  },
  {
   "cell_type": "code",
   "execution_count": 35,
   "metadata": {},
   "outputs": [],
   "source": [
    "def get_next_state(state, action):\n",
    "    row, col = state\n",
    "    if action == \"up\":\n",
    "        row = max(row - 1, 0)\n",
    "    elif action == \"down\":\n",
    "        row = min(row + 1, maze.shape[0] - 1)\n",
    "    elif action == \"left\":\n",
    "        col = max(col - 1, 0)\n",
    "    elif action == \"right\":\n",
    "        col = min(col + 1, maze.shape[1] - 1)\n",
    "    return (row, col)"
   ]
  },
  {
   "cell_type": "code",
   "execution_count": 36,
   "metadata": {},
   "outputs": [],
   "source": [
    "def choose_action(state):\n",
    "    if np.random.rand() < epsilon:\n",
    "        return np.random.choice(actions)\n",
    "    else:\n",
    "        return actions[np.argmax(q_table[state])]"
   ]
  },
  {
   "cell_type": "code",
   "execution_count": 37,
   "metadata": {},
   "outputs": [],
   "source": [
    "for episode in range(episodes):\n",
    "    state = start\n",
    "    while state != goal:\n",
    "        action = choose_action(state)\n",
    "        next_state = get_next_state(state, action)\n",
    "        reward = rewards[next_state]\n",
    "        q_table[state][actions.index(action)] += alpha * (\n",
    "            reward\n",
    "            + gamma * np.max(q_table[next_state])\n",
    "            - q_table[state][actions.index(action)]\n",
    "        )\n",
    "        state = next_state"
   ]
  },
  {
   "cell_type": "code",
   "execution_count": 38,
   "metadata": {},
   "outputs": [
    {
     "name": "stdout",
     "output_type": "stream",
     "text": [
      "Path taken by the agent:\n",
      "[(0, 0), (0, 1), (1, 1), (1, 2), (2, 2), (3, 2), (3, 3), (3, 4), (4, 4)]\n"
     ]
    }
   ],
   "source": [
    "# Evaluate the agent\n",
    "state = start\n",
    "path = [state]\n",
    "while state != goal:\n",
    "    action = actions[np.argmax(q_table[state])]\n",
    "    state = get_next_state(state, action)\n",
    "    path.append(state)\n",
    "\n",
    "print(\"Path taken by the agent:\")\n",
    "print(path)"
   ]
  },
  {
   "cell_type": "code",
   "execution_count": 39,
   "metadata": {},
   "outputs": [
    {
     "data": {
      "image/png": "[encoded data removed]",
      "text/plain": [
       "<Figure size 600x600 with 1 Axes>"
      ]
     },
     "metadata": {},
     "output_type": "display_data"
    }
   ],
   "source": [
    "def plot_path(maze, path):\n",
    "    maze_copy = maze.copy()\n",
    "    for position in path:\n",
    "        maze_copy[position] = 2  # Mark the path\n",
    "    maze_copy[start] = 3  # Mark the start\n",
    "    maze_copy[goal] = 4  # Mark the goal\n",
    "\n",
    "    # Create a colormap\n",
    "    cmap = plt.cm.colors.ListedColormap([\"white\", \"black\", \"blue\", \"green\", \"red\"])\n",
    "\n",
    "    plt.figure(figsize=(6, 6))\n",
    "    plt.imshow(maze_copy, cmap=cmap)\n",
    "    plt.xticks(np.arange(maze.shape[1]))\n",
    "    plt.yticks(np.arange(maze.shape[0]))\n",
    "    plt.grid(True)\n",
    "    plt.show()\n",
    "\n",
    "\n",
    "plot_path(maze, path)"
   ]
  },
  {
   "cell_type": "code",
   "execution_count": null,
   "metadata": {},
   "outputs": [],
   "source": []
  }
 ],
 "metadata": {
  "kernelspec": {
   "display_name": "Python 3",
   "language": "python",
   "name": "python3"
  },
  "language_info": {
   "codemirror_mode": {
    "name": "ipython",
    "version": 3
   },
   "file_extension": ".py",
   "mimetype": "text/x-python",
   "name": "python",
   "nbconvert_exporter": "python",
   "pygments_lexer": "ipython3",
   "version": "3.12.3"
  }
 },
 "nbformat": 4,
 "nbformat_minor": 2
}
