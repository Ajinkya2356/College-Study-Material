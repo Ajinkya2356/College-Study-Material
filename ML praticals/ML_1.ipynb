{
 "cells": [
  {
   "cell_type": "markdown",
   "metadata": {},
   "source": [
    "# Import Required Libraries\n",
    "Import the necessary libraries, including pandas, numpy, matplotlib, and sklearn."
   ]
  },
  {
   "cell_type": "code",
   "execution_count": null,
   "metadata": {},
   "outputs": [],
   "source": [
    "import pandas as pd\n",
    "import numpy as np\n",
    "import matplotlib.pyplot as plt\n",
    "from sklearn.decomposition import PCA\n",
    "from sklearn.preprocessing import StandardScaler"
   ]
  },
  {
   "cell_type": "markdown",
   "metadata": {},
   "source": [
    "# Load the Dataset\n",
    "Load the wine dataset from the provided CSV file using pandas."
   ]
  },
  {
   "cell_type": "code",
   "execution_count": null,
   "metadata": {},
   "outputs": [],
   "source": [
    "# Load the wine dataset from the provided CSV file using pandas\n",
    "wine_data = pd.read_csv('Wine.csv')\n",
    "\n",
    "# Display the first few rows of the dataset to verify it loaded correctly\n",
    "wine_data.head()"
   ]
  },
  {
   "cell_type": "code",
   "execution_count": null,
   "metadata": {},
   "outputs": [],
   "source": [
    "wine_data.describe()"
   ]
  },
  {
   "cell_type": "code",
   "execution_count": null,
   "metadata": {},
   "outputs": [],
   "source": [
    "wine_data.info()"
   ]
  },
  {
   "cell_type": "markdown",
   "metadata": {},
   "source": [
    "# Preprocess the Data\n",
    "Handle any missing values and encode categorical variables if necessary."
   ]
  },
  {
   "cell_type": "code",
   "execution_count": null,
   "metadata": {},
   "outputs": [],
   "source": [
    "# Check for missing values in the dataset\n",
    "missing_values = wine_data.isnull().sum()\n",
    "print(\"Missing values in each column:\\n\", missing_values)\n",
    "\n",
    "# If there were missing values, we could handle them by filling with the mean of the column\n",
    "# For example:\n",
    "# wine_data.fillna(wine_data.mean(), inplace=True)\n",
    "\n",
    "# Standardize the data before applying PCA\n",
    "features = wine_data.columns[:-1]  # Exclude the target variable 'Customer_Segment'\n",
    "x = wine_data.loc[:, features].values\n",
    "y = wine_data.loc[:, ['Customer_Segment']].values\n",
    "\n",
    "# Standardize the features\n",
    "x = StandardScaler().fit_transform(x)"
   ]
  },
  {
   "cell_type": "markdown",
   "metadata": {},
   "source": [
    "# Standardize the Data\n",
    "Standardize the dataset to have a mean of 0 and a standard deviation of 1 using StandardScaler from sklearn."
   ]
  },
  {
   "cell_type": "code",
   "execution_count": null,
   "metadata": {},
   "outputs": [],
   "source": [
    "# Standardize the Data\n",
    "\n",
    "# Standardize the features\n",
    "x = StandardScaler().fit_transform(x)"
   ]
  },
  {
   "cell_type": "markdown",
   "metadata": {},
   "source": [
    "# Apply PCA\n",
    "Apply the PCA algorithm to the standardized data using PCA from sklearn."
   ]
  },
  {
   "cell_type": "code",
   "execution_count": null,
   "metadata": {},
   "outputs": [],
   "source": [
    "# Apply PCA\n",
    "pca = PCA(n_components=2)  # Reduce to 2 principal components\n",
    "principal_components = pca.fit_transform(x)\n",
    "\n",
    "# Create a DataFrame with the principal components\n",
    "principal_df = pd.DataFrame(data=principal_components, columns=['Principal Component 1', 'Principal Component 2'])\n",
    "\n",
    "# Concatenate the target variable 'Customer_Segment' with the principal components\n",
    "final_df = pd.concat([principal_df, wine_data[['Customer_Segment']]], axis=1)\n",
    "\n",
    "# Display the first few rows of the final DataFrame\n",
    "final_df.head()"
   ]
  },
  {
   "cell_type": "markdown",
   "metadata": {},
   "source": [
    "# Visualize the Principal Components\n",
    "Create scatter plots of the first two principal components to visualize the data."
   ]
  },
  {
   "cell_type": "code",
   "execution_count": null,
   "metadata": {},
   "outputs": [],
   "source": [
    "# Visualize the Principal Components\n",
    "\n",
    "# Create a scatter plot of the first two principal components\n",
    "plt.figure(figsize=(10, 6))\n",
    "plt.scatter(final_df['Principal Component 1'], final_df['Principal Component 2'], c=final_df['Customer_Segment'], cmap='viridis', edgecolor='k', s=100)\n",
    "plt.xlabel('Principal Component 1')\n",
    "plt.ylabel('Principal Component 2')\n",
    "plt.title('PCA of Wine Dataset')\n",
    "plt.colorbar(label='Customer Segment')\n",
    "plt.show()"
   ]
  },
  {
   "cell_type": "markdown",
   "metadata": {},
   "source": [
    "# Interpret the Results\n",
    "Analyze the principal components to understand the variance captured and how well they distinguish between different types of wine."
   ]
  },
  {
   "cell_type": "code",
   "execution_count": null,
   "metadata": {},
   "outputs": [],
   "source": [
    "# Analyze the explained variance ratio to understand how much variance is captured by each principal component\n",
    "explained_variance = pca.explained_variance_ratio_\n",
    "print(\"Explained variance by each principal component:\\n\", explained_variance)\n",
    "\n",
    "# Create a bar plot to visualize the explained variance ratio\n",
    "plt.figure(figsize=(8, 5))\n",
    "plt.bar(range(1, len(explained_variance) + 1), explained_variance, alpha=0.7, align='center', color='blue')\n",
    "plt.xlabel('Principal Components')\n",
    "plt.ylabel('Explained Variance Ratio')\n",
    "plt.title('Explained Variance Ratio by Principal Components')\n",
    "plt.show()"
   ]
  },
  {
   "cell_type": "code",
   "execution_count": null,
   "metadata": {},
   "outputs": [],
   "source": [
    "# Analyze the loadings to understand the contribution of each feature to the principal components\n",
    "loadings = pca.components_.T * np.sqrt(pca.explained_variance_)\n",
    "loadings_df = pd.DataFrame(loadings, columns=['Principal Component 1', 'Principal Component 2'], index=features)\n",
    "print(\"Loadings of each feature on the principal components:\\n\", loadings_df)\n",
    "\n",
    "# Visualize the loadings of the features on the principal components\n",
    "plt.figure(figsize=(10, 6))\n",
    "plt.scatter(loadings_df['Principal Component 1'], loadings_df['Principal Component 2'], s=100)\n",
    "for i, feature in enumerate(features):\n",
    "    plt.text(loadings_df['Principal Component 1'][i], loadings_df['Principal Component 2'][i], feature, fontsize=12)\n",
    "plt.xlabel('Principal Component 1')\n",
    "plt.ylabel('Principal Component 2')\n",
    "plt.title('Loadings of Features on Principal Components')\n",
    "plt.grid()\n",
    "plt.show()"
   ]
  }
 ],
 "metadata": {
  "kernelspec": {
   "display_name": "Python 3",
   "language": "python",
   "name": "python3"
  },
  "language_info": {
   "codemirror_mode": {
    "name": "ipython",
    "version": 3
   },
   "file_extension": ".py",
   "mimetype": "text/x-python",
   "name": "python",
   "nbconvert_exporter": "python",
   "pygments_lexer": "ipython3",
   "version": "3.12.3"
  }
 },
 "nbformat": 4,
 "nbformat_minor": 2
}
